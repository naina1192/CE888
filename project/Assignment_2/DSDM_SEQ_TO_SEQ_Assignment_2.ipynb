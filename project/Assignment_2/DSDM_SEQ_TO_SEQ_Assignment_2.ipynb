{
 "cells": [
  {
   "cell_type": "code",
   "execution_count": 1,
   "id": "a83cb92e",
   "metadata": {},
   "outputs": [],
   "source": [
    "import numpy as np\n",
    "import pandas as pd\n",
    "import string\n",
    "from matplotlib import pyplot as plt\n",
    "import seaborn as sns\n",
    "%matplotlib inline\n",
    "import warnings # supress warnings\n",
    "warnings.filterwarnings('ignore')\n",
    "import tensorflow as tf\n",
    "from tensorflow import keras\n",
    "from keras.models import Model\n",
    "from keras.layers import Input, LSTM, Dense\n",
    "pd.set_option('display.width', 1000)\n",
    "pd.set_option('display.max_colwidth', -1)\n",
    "import nltk\n",
    "from keras.preprocessing.text import Tokenizer\n",
    "from keras.models import Sequential\n",
    "from keras.layers import *\n",
    "from keras.utils.np_utils import to_categorical\n",
    "from keras.preprocessing.sequence import pad_sequences\n",
    "from keras.initializers import Constant\n",
    "import re\n",
    "import nltk"
   ]
  },
  {
   "cell_type": "code",
   "execution_count": 2,
   "id": "236dde39",
   "metadata": {},
   "outputs": [],
   "source": [
    "data = pd.read_json('train_spider.json') # load training set\n",
    "df1 =data.head(2000) # we have taken the first 2000 records for training\n",
    "\n",
    "df2 =pd.read_json('train_others.json') # load test set"
   ]
  },
  {
   "cell_type": "code",
   "execution_count": 3,
   "id": "69000481",
   "metadata": {},
   "outputs": [
    {
     "data": {
      "text/plain": [
       "(2000, 7)"
      ]
     },
     "execution_count": 3,
     "metadata": {},
     "output_type": "execute_result"
    }
   ],
   "source": [
    "df1.shape"
   ]
  },
  {
   "cell_type": "code",
   "execution_count": 4,
   "id": "8fa56d77",
   "metadata": {},
   "outputs": [
    {
     "data": {
      "text/plain": [
       "(1659, 7)"
      ]
     },
     "execution_count": 4,
     "metadata": {},
     "output_type": "execute_result"
    }
   ],
   "source": [
    "df2.shape # 1659 for testing purpose"
   ]
  },
  {
   "cell_type": "code",
   "execution_count": 5,
   "id": "6421c352",
   "metadata": {},
   "outputs": [],
   "source": [
    "# 4.1 Punctuations Removal\n",
    "import string\n",
    "\n",
    "def remove_punctuations(text):\n",
    "    for punctuation in string.punctuation:\n",
    "        text = text.replace(punctuation, '')\n",
    "    return text\n",
    "\n",
    "df1[\"clean_question\"] = df1['question'].apply(remove_punctuations)\n",
    "\n",
    "df2[\"clean_question\"] = df2['question'].apply(remove_punctuations)"
   ]
  },
  {
   "cell_type": "code",
   "execution_count": 6,
   "id": "f11707e3",
   "metadata": {},
   "outputs": [],
   "source": [
    "# 4.2 Whitespace Removal\n",
    "df1['clean_query'] = df1['query'].str.strip(string.whitespace)\n",
    "df1['clean_question'] = df1['clean_question'].str.strip(string.whitespace)\n",
    "\n",
    "df2['clean_query'] = df2['query'].str.strip(string.whitespace)\n",
    "df2['clean_question'] = df2['clean_question'].str.strip(string.whitespace)\n"
   ]
  },
  {
   "cell_type": "code",
   "execution_count": 7,
   "id": "c69d76df",
   "metadata": {},
   "outputs": [],
   "source": [
    "# 4.3 Lowering the text\n",
    "df1['query_lower']= df1['clean_query'].apply(lambda x: x.lower())\n",
    "df1['quest_lower']= df1['clean_question'].apply(lambda x: x.lower())\n",
    "\n",
    "\n",
    "df2['query_lower']= df2['clean_query'].apply(lambda x: x.lower())\n",
    "df2['quest_lower']= df2['clean_question'].apply(lambda x: x.lower())"
   ]
  },
  {
   "cell_type": "code",
   "execution_count": 8,
   "id": "c1842110",
   "metadata": {},
   "outputs": [
    {
     "data": {
      "text/html": [
       "<div>\n",
       "<style scoped>\n",
       "    .dataframe tbody tr th:only-of-type {\n",
       "        vertical-align: middle;\n",
       "    }\n",
       "\n",
       "    .dataframe tbody tr th {\n",
       "        vertical-align: top;\n",
       "    }\n",
       "\n",
       "    .dataframe thead th {\n",
       "        text-align: right;\n",
       "    }\n",
       "</style>\n",
       "<table border=\"1\" class=\"dataframe\">\n",
       "  <thead>\n",
       "    <tr style=\"text-align: right;\">\n",
       "      <th></th>\n",
       "      <th>db_id</th>\n",
       "      <th>query</th>\n",
       "      <th>query_toks</th>\n",
       "      <th>query_toks_no_value</th>\n",
       "      <th>question</th>\n",
       "      <th>question_toks</th>\n",
       "      <th>sql</th>\n",
       "      <th>clean_question</th>\n",
       "      <th>clean_query</th>\n",
       "      <th>query_lower</th>\n",
       "      <th>quest_lower</th>\n",
       "    </tr>\n",
       "  </thead>\n",
       "  <tbody>\n",
       "    <tr>\n",
       "      <th>0</th>\n",
       "      <td>department_management</td>\n",
       "      <td>SELECT count(*) FROM head WHERE age  &gt;  56</td>\n",
       "      <td>[SELECT, count, (, *, ), FROM, head, WHERE, age, &gt;, 56]</td>\n",
       "      <td>[select, count, (, *, ), from, head, where, age, &gt;, value]</td>\n",
       "      <td>How many heads of the departments are older than 56 ?</td>\n",
       "      <td>[How, many, heads, of, the, departments, are, older, than, 56, ?]</td>\n",
       "      <td>{'from': {'table_units': [['table_unit', 1]], 'conds': []}, 'select': [False, [[3, [0, [0, 0, False], None]]]], 'where': [[False, 3, [0, [0, 10, False], None], 56.0, None]], 'groupBy': [], 'having': [], 'orderBy': [], 'limit': None, 'intersect': None, 'union': None, 'except': None}</td>\n",
       "      <td>How many heads of the departments are older than 56</td>\n",
       "      <td>SELECT count(*) FROM head WHERE age  &gt;  56</td>\n",
       "      <td>select count(*) from head where age  &gt;  56</td>\n",
       "      <td>how many heads of the departments are older than 56</td>\n",
       "    </tr>\n",
       "    <tr>\n",
       "      <th>1</th>\n",
       "      <td>department_management</td>\n",
       "      <td>SELECT name ,  born_state ,  age FROM head ORDER BY age</td>\n",
       "      <td>[SELECT, name, ,, born_state, ,, age, FROM, head, ORDER, BY, age]</td>\n",
       "      <td>[select, name, ,, born_state, ,, age, from, head, order, by, age]</td>\n",
       "      <td>List the name, born state and age of the heads of departments ordered by age.</td>\n",
       "      <td>[List, the, name, ,, born, state, and, age, of, the, heads, of, departments, ordered, by, age, .]</td>\n",
       "      <td>{'from': {'table_units': [['table_unit', 1]], 'conds': []}, 'select': [False, [[0, [0, [0, 8, False], None]], [0, [0, [0, 9, False], None]], [0, [0, [0, 10, False], None]]]], 'where': [], 'groupBy': [], 'having': [], 'orderBy': ['asc', [[0, [0, 10, False], None]]], 'limit': None, 'intersect': None, 'union': None, 'except': None}</td>\n",
       "      <td>List the name born state and age of the heads of departments ordered by age</td>\n",
       "      <td>SELECT name ,  born_state ,  age FROM head ORDER BY age</td>\n",
       "      <td>select name ,  born_state ,  age from head order by age</td>\n",
       "      <td>list the name born state and age of the heads of departments ordered by age</td>\n",
       "    </tr>\n",
       "    <tr>\n",
       "      <th>2</th>\n",
       "      <td>department_management</td>\n",
       "      <td>SELECT creation ,  name ,  budget_in_billions FROM department</td>\n",
       "      <td>[SELECT, creation, ,, name, ,, budget_in_billions, FROM, department]</td>\n",
       "      <td>[select, creation, ,, name, ,, budget_in_billions, from, department]</td>\n",
       "      <td>List the creation year, name and budget of each department.</td>\n",
       "      <td>[List, the, creation, year, ,, name, and, budget, of, each, department, .]</td>\n",
       "      <td>{'from': {'table_units': [['table_unit', 0]], 'conds': []}, 'select': [False, [[0, [0, [0, 3, False], None]], [0, [0, [0, 2, False], None]], [0, [0, [0, 5, False], None]]]], 'where': [], 'groupBy': [], 'having': [], 'orderBy': [], 'limit': None, 'intersect': None, 'union': None, 'except': None}</td>\n",
       "      <td>List the creation year name and budget of each department</td>\n",
       "      <td>SELECT creation ,  name ,  budget_in_billions FROM department</td>\n",
       "      <td>select creation ,  name ,  budget_in_billions from department</td>\n",
       "      <td>list the creation year name and budget of each department</td>\n",
       "    </tr>\n",
       "    <tr>\n",
       "      <th>3</th>\n",
       "      <td>department_management</td>\n",
       "      <td>SELECT max(budget_in_billions) ,  min(budget_in_billions) FROM department</td>\n",
       "      <td>[SELECT, max, (, budget_in_billions, ), ,, min, (, budget_in_billions, ), FROM, department]</td>\n",
       "      <td>[select, max, (, budget_in_billions, ), ,, min, (, budget_in_billions, ), from, department]</td>\n",
       "      <td>What are the maximum and minimum budget of the departments?</td>\n",
       "      <td>[What, are, the, maximum, and, minimum, budget, of, the, departments, ?]</td>\n",
       "      <td>{'from': {'table_units': [['table_unit', 0]], 'conds': []}, 'select': [False, [[1, [0, [0, 5, False], None]], [2, [0, [0, 5, False], None]]]], 'where': [], 'groupBy': [], 'having': [], 'orderBy': [], 'limit': None, 'intersect': None, 'union': None, 'except': None}</td>\n",
       "      <td>What are the maximum and minimum budget of the departments</td>\n",
       "      <td>SELECT max(budget_in_billions) ,  min(budget_in_billions) FROM department</td>\n",
       "      <td>select max(budget_in_billions) ,  min(budget_in_billions) from department</td>\n",
       "      <td>what are the maximum and minimum budget of the departments</td>\n",
       "    </tr>\n",
       "    <tr>\n",
       "      <th>4</th>\n",
       "      <td>department_management</td>\n",
       "      <td>SELECT avg(num_employees) FROM department WHERE ranking BETWEEN 10 AND 15</td>\n",
       "      <td>[SELECT, avg, (, num_employees, ), FROM, department, WHERE, ranking, BETWEEN, 10, AND, 15]</td>\n",
       "      <td>[select, avg, (, num_employees, ), from, department, where, ranking, between, value, and, value]</td>\n",
       "      <td>What is the average number of employees of the departments whose rank is between 10 and 15?</td>\n",
       "      <td>[What, is, the, average, number, of, employees, of, the, departments, whose, rank, is, between, 10, and, 15, ?]</td>\n",
       "      <td>{'from': {'table_units': [['table_unit', 0]], 'conds': []}, 'select': [False, [[5, [0, [0, 6, False], None]]]], 'where': [[False, 1, [0, [0, 4, False], None], 10.0, 15.0]], 'groupBy': [], 'having': [], 'orderBy': [], 'limit': None, 'intersect': None, 'union': None, 'except': None}</td>\n",
       "      <td>What is the average number of employees of the departments whose rank is between 10 and 15</td>\n",
       "      <td>SELECT avg(num_employees) FROM department WHERE ranking BETWEEN 10 AND 15</td>\n",
       "      <td>select avg(num_employees) from department where ranking between 10 and 15</td>\n",
       "      <td>what is the average number of employees of the departments whose rank is between 10 and 15</td>\n",
       "    </tr>\n",
       "  </tbody>\n",
       "</table>\n",
       "</div>"
      ],
      "text/plain": [
       "                   db_id                                                                      query                                                                                   query_toks                                                                               query_toks_no_value                                                                                     question                                                                                                    question_toks                                                                                                                                                                                                                                                                                                                                         sql                                                                              clean_question                                                                clean_query  \\\n",
       "0  department_management  SELECT count(*) FROM head WHERE age  >  56                                 [SELECT, count, (, *, ), FROM, head, WHERE, age, >, 56]                                      [select, count, (, *, ), from, head, where, age, >, value]                                        How many heads of the departments are older than 56 ?                                        [How, many, heads, of, the, departments, are, older, than, 56, ?]                                                {'from': {'table_units': [['table_unit', 1]], 'conds': []}, 'select': [False, [[3, [0, [0, 0, False], None]]]], 'where': [[False, 3, [0, [0, 10, False], None], 56.0, None]], 'groupBy': [], 'having': [], 'orderBy': [], 'limit': None, 'intersect': None, 'union': None, 'except': None}                                                  How many heads of the departments are older than 56                                         SELECT count(*) FROM head WHERE age  >  56                                  \n",
       "1  department_management  SELECT name ,  born_state ,  age FROM head ORDER BY age                    [SELECT, name, ,, born_state, ,, age, FROM, head, ORDER, BY, age]                            [select, name, ,, born_state, ,, age, from, head, order, by, age]                                 List the name, born state and age of the heads of departments ordered by age.                [List, the, name, ,, born, state, and, age, of, the, heads, of, departments, ordered, by, age, .]                {'from': {'table_units': [['table_unit', 1]], 'conds': []}, 'select': [False, [[0, [0, [0, 8, False], None]], [0, [0, [0, 9, False], None]], [0, [0, [0, 10, False], None]]]], 'where': [], 'groupBy': [], 'having': [], 'orderBy': ['asc', [[0, [0, 10, False], None]]], 'limit': None, 'intersect': None, 'union': None, 'except': None}  List the name born state and age of the heads of departments ordered by age                 SELECT name ,  born_state ,  age FROM head ORDER BY age                     \n",
       "2  department_management  SELECT creation ,  name ,  budget_in_billions FROM department              [SELECT, creation, ,, name, ,, budget_in_billions, FROM, department]                         [select, creation, ,, name, ,, budget_in_billions, from, department]                              List the creation year, name and budget of each department.                                  [List, the, creation, year, ,, name, and, budget, of, each, department, .]                                       {'from': {'table_units': [['table_unit', 0]], 'conds': []}, 'select': [False, [[0, [0, [0, 3, False], None]], [0, [0, [0, 2, False], None]], [0, [0, [0, 5, False], None]]]], 'where': [], 'groupBy': [], 'having': [], 'orderBy': [], 'limit': None, 'intersect': None, 'union': None, 'except': None}                                     List the creation year name and budget of each department                                   SELECT creation ,  name ,  budget_in_billions FROM department               \n",
       "3  department_management  SELECT max(budget_in_billions) ,  min(budget_in_billions) FROM department  [SELECT, max, (, budget_in_billions, ), ,, min, (, budget_in_billions, ), FROM, department]  [select, max, (, budget_in_billions, ), ,, min, (, budget_in_billions, ), from, department]       What are the maximum and minimum budget of the departments?                                  [What, are, the, maximum, and, minimum, budget, of, the, departments, ?]                                         {'from': {'table_units': [['table_unit', 0]], 'conds': []}, 'select': [False, [[1, [0, [0, 5, False], None]], [2, [0, [0, 5, False], None]]]], 'where': [], 'groupBy': [], 'having': [], 'orderBy': [], 'limit': None, 'intersect': None, 'union': None, 'except': None}                                                                    What are the maximum and minimum budget of the departments                                  SELECT max(budget_in_billions) ,  min(budget_in_billions) FROM department   \n",
       "4  department_management  SELECT avg(num_employees) FROM department WHERE ranking BETWEEN 10 AND 15  [SELECT, avg, (, num_employees, ), FROM, department, WHERE, ranking, BETWEEN, 10, AND, 15]   [select, avg, (, num_employees, ), from, department, where, ranking, between, value, and, value]  What is the average number of employees of the departments whose rank is between 10 and 15?  [What, is, the, average, number, of, employees, of, the, departments, whose, rank, is, between, 10, and, 15, ?]  {'from': {'table_units': [['table_unit', 0]], 'conds': []}, 'select': [False, [[5, [0, [0, 6, False], None]]]], 'where': [[False, 1, [0, [0, 4, False], None], 10.0, 15.0]], 'groupBy': [], 'having': [], 'orderBy': [], 'limit': None, 'intersect': None, 'union': None, 'except': None}                                                   What is the average number of employees of the departments whose rank is between 10 and 15  SELECT avg(num_employees) FROM department WHERE ranking BETWEEN 10 AND 15   \n",
       "\n",
       "                                                                 query_lower                                                                                 quest_lower  \n",
       "0  select count(*) from head where age  >  56                                 how many heads of the departments are older than 56                                         \n",
       "1  select name ,  born_state ,  age from head order by age                    list the name born state and age of the heads of departments ordered by age                 \n",
       "2  select creation ,  name ,  budget_in_billions from department              list the creation year name and budget of each department                                   \n",
       "3  select max(budget_in_billions) ,  min(budget_in_billions) from department  what are the maximum and minimum budget of the departments                                  \n",
       "4  select avg(num_employees) from department where ranking between 10 and 15  what is the average number of employees of the departments whose rank is between 10 and 15  "
      ]
     },
     "execution_count": 8,
     "metadata": {},
     "output_type": "execute_result"
    }
   ],
   "source": [
    "df1.head()"
   ]
  },
  {
   "cell_type": "code",
   "execution_count": 9,
   "id": "58b33db2",
   "metadata": {},
   "outputs": [
    {
     "data": {
      "text/plain": [
       "Index(['db_id', 'query', 'query_toks', 'query_toks_no_value', 'question', 'question_toks', 'sql', 'clean_question', 'clean_query', 'query_lower', 'quest_lower'], dtype='object')"
      ]
     },
     "execution_count": 9,
     "metadata": {},
     "output_type": "execute_result"
    }
   ],
   "source": [
    "# Final pre-processed data with tokenised query and lemmatised question column\n",
    "df1.columns"
   ]
  },
  {
   "cell_type": "code",
   "execution_count": 10,
   "id": "2a27adab",
   "metadata": {},
   "outputs": [],
   "source": [
    "selected_columns_1 = df1[[\"query_lower\",\"quest_lower\"]]\n",
    "\n",
    "selected_columns_2 = df2[[\"query_lower\",\"quest_lower\"]]"
   ]
  },
  {
   "cell_type": "code",
   "execution_count": 11,
   "id": "af1efeb4",
   "metadata": {},
   "outputs": [],
   "source": [
    "df_train = selected_columns_1.copy()\n",
    "\n",
    "df_test = selected_columns_2.copy()"
   ]
  },
  {
   "cell_type": "code",
   "execution_count": 12,
   "id": "2096fcf4",
   "metadata": {},
   "outputs": [
    {
     "data": {
      "text/html": [
       "<div>\n",
       "<style scoped>\n",
       "    .dataframe tbody tr th:only-of-type {\n",
       "        vertical-align: middle;\n",
       "    }\n",
       "\n",
       "    .dataframe tbody tr th {\n",
       "        vertical-align: top;\n",
       "    }\n",
       "\n",
       "    .dataframe thead th {\n",
       "        text-align: right;\n",
       "    }\n",
       "</style>\n",
       "<table border=\"1\" class=\"dataframe\">\n",
       "  <thead>\n",
       "    <tr style=\"text-align: right;\">\n",
       "      <th></th>\n",
       "      <th>query_lower</th>\n",
       "      <th>quest_lower</th>\n",
       "    </tr>\n",
       "  </thead>\n",
       "  <tbody>\n",
       "    <tr>\n",
       "      <th>0</th>\n",
       "      <td>select count(*) from head where age  &gt;  56</td>\n",
       "      <td>how many heads of the departments are older than 56</td>\n",
       "    </tr>\n",
       "    <tr>\n",
       "      <th>1</th>\n",
       "      <td>select name ,  born_state ,  age from head order by age</td>\n",
       "      <td>list the name born state and age of the heads of departments ordered by age</td>\n",
       "    </tr>\n",
       "    <tr>\n",
       "      <th>2</th>\n",
       "      <td>select creation ,  name ,  budget_in_billions from department</td>\n",
       "      <td>list the creation year name and budget of each department</td>\n",
       "    </tr>\n",
       "    <tr>\n",
       "      <th>3</th>\n",
       "      <td>select max(budget_in_billions) ,  min(budget_in_billions) from department</td>\n",
       "      <td>what are the maximum and minimum budget of the departments</td>\n",
       "    </tr>\n",
       "    <tr>\n",
       "      <th>4</th>\n",
       "      <td>select avg(num_employees) from department where ranking between 10 and 15</td>\n",
       "      <td>what is the average number of employees of the departments whose rank is between 10 and 15</td>\n",
       "    </tr>\n",
       "  </tbody>\n",
       "</table>\n",
       "</div>"
      ],
      "text/plain": [
       "                                                                 query_lower                                                                                 quest_lower\n",
       "0  select count(*) from head where age  >  56                                 how many heads of the departments are older than 56                                       \n",
       "1  select name ,  born_state ,  age from head order by age                    list the name born state and age of the heads of departments ordered by age               \n",
       "2  select creation ,  name ,  budget_in_billions from department              list the creation year name and budget of each department                                 \n",
       "3  select max(budget_in_billions) ,  min(budget_in_billions) from department  what are the maximum and minimum budget of the departments                                \n",
       "4  select avg(num_employees) from department where ranking between 10 and 15  what is the average number of employees of the departments whose rank is between 10 and 15"
      ]
     },
     "execution_count": 12,
     "metadata": {},
     "output_type": "execute_result"
    }
   ],
   "source": [
    "df_train.head()"
   ]
  },
  {
   "cell_type": "code",
   "execution_count": 13,
   "id": "72d00d27",
   "metadata": {},
   "outputs": [],
   "source": [
    "# For Train\n",
    "input_sentences = df_train['quest_lower']\n",
    "output_sentences = df_train['query_lower'].astype(str) + ' <eos>'\n",
    "output_sentences_inputs = '<sos> ' + df_train['query_lower'].astype(str)\n",
    "\n",
    "\n",
    "# For Test\n",
    "\n",
    "input_test_sentences = df_test['quest_lower']\n",
    "output_test_sentences = df_test['query_lower'].astype(str) + ' <eos>'\n",
    "output_test_sentences_inputs = '<sos> ' + df_test['query_lower'].astype(str)"
   ]
  },
  {
   "cell_type": "code",
   "execution_count": 14,
   "id": "95e40dae",
   "metadata": {},
   "outputs": [
    {
     "name": "stdout",
     "output_type": "stream",
     "text": [
      "num samples input training: 2000\n",
      "num samples output training : 2000\n",
      "num samples output input training : 2000\n",
      "num samples input test : 1659\n",
      "num samples output test : 1659\n",
      "num samples output input test : 1659\n"
     ]
    }
   ],
   "source": [
    "print(\"num samples input training:\", len(input_sentences))\n",
    "print(\"num samples output training :\", len(output_sentences))\n",
    "print(\"num samples output input training :\", len(output_sentences_inputs))\n",
    "\n",
    "\n",
    "print(\"num samples input test :\", len(input_test_sentences))\n",
    "print(\"num samples output test :\", len(output_test_sentences))\n",
    "print(\"num samples output input test :\", len(output_test_sentences_inputs))\n"
   ]
  },
  {
   "cell_type": "code",
   "execution_count": 15,
   "id": "28e5bdea",
   "metadata": {},
   "outputs": [
    {
     "name": "stdout",
     "output_type": "stream",
     "text": [
      "what are the names of all stations that have more than 10 bikes available and are not located in san jose\n",
      "select t1.name from station as t1 join status as t2 on t1.id  =  t2.station_id group by t2.station_id having avg(bikes_available)  >  10 except select name from station where city  =  \"san jose\" <eos>\n",
      "<sos> select t1.name from station as t1 join status as t2 on t1.id  =  t2.station_id group by t2.station_id having avg(bikes_available)  >  10 except select name from station where city  =  \"san jose\"\n",
      "what state has the city with the most population\n",
      "select state_name from city where population  =  ( select max ( population ) from city ); <eos>\n",
      "<sos> select state_name from city where population  =  ( select max ( population ) from city );\n"
     ]
    }
   ],
   "source": [
    "print(input_sentences[172])\n",
    "print(output_sentences[172])\n",
    "print(output_sentences_inputs[172])\n",
    "\n",
    "print(input_test_sentences[172])\n",
    "print(output_test_sentences[172])\n",
    "print(output_test_sentences_inputs[172])"
   ]
  },
  {
   "cell_type": "markdown",
   "id": "95f49da3",
   "metadata": {},
   "source": [
    "TOKENIZATION"
   ]
  },
  {
   "cell_type": "code",
   "execution_count": 16,
   "id": "1e932c12",
   "metadata": {},
   "outputs": [
    {
     "name": "stdout",
     "output_type": "stream",
     "text": [
      "Total unique words in the input train set : 1422\n",
      "Length of longest sentence in input train set: 37\n",
      "Total unique words in the input test set : 878\n",
      "Length of longest sentence in input test set : 22\n"
     ]
    }
   ],
   "source": [
    "max_features = 20000 # this is the number of words we care about\n",
    "\n",
    "# For Training\n",
    "input_tokenizer = Tokenizer(num_words=max_features,split = ' ', oov_token='<unw>',filters='')\n",
    "input_tokenizer.fit_on_texts(input_sentences)\n",
    "\n",
    "# this takes our sentences and replaces each word with an integer\n",
    "input_integer_seq = input_tokenizer.texts_to_sequences(input_sentences)\n",
    "\n",
    "\n",
    "word2idx_inputs = input_tokenizer.word_index\n",
    "print('Total unique words in the input train set : %s' % len(word2idx_inputs))\n",
    "\n",
    "max_input_len = max(len(sen) for sen in input_integer_seq)\n",
    "print(\"Length of longest sentence in input train set: %g\" % max_input_len)\n",
    "\n",
    "# For Testing\n",
    "\n",
    "input_test_tokenizer = Tokenizer(num_words=max_features,split = ' ', oov_token='<unw>',filters='')\n",
    "input_test_tokenizer.fit_on_texts(input_test_sentences)\n",
    "\n",
    "# this takes our sentences and replaces each word with an integer\n",
    "input_test_integer_seq = input_test_tokenizer.texts_to_sequences(input_test_sentences)\n",
    "\n",
    "\n",
    "word2idx_test_inputs = input_test_tokenizer.word_index\n",
    "print('Total unique words in the input test set : %s' % len(word2idx_test_inputs))\n",
    "\n",
    "max_input_test_len = max(len(sen) for sen in input_test_integer_seq)\n",
    "print(\"Length of longest sentence in input test set : %g\" % max_input_test_len)\n"
   ]
  },
  {
   "cell_type": "code",
   "execution_count": 17,
   "id": "3c17f7aa",
   "metadata": {},
   "outputs": [
    {
     "name": "stdout",
     "output_type": "stream",
     "text": [
      "Total unique words in the output: 2316\n",
      "Length of longest sentence in the output: 58\n",
      "Total unique words in the output in test set : 1247\n",
      "Length of longest sentence in the output in test set: 77\n"
     ]
    }
   ],
   "source": [
    "# For Training\n",
    "output_tokenizer = Tokenizer(num_words=max_features, oov_token='<unw>', split = ' ',filters='')\n",
    "output_tokenizer.fit_on_texts(output_sentences_inputs + output_sentences)\n",
    "output_integer_seq = output_tokenizer.texts_to_sequences(output_sentences)\n",
    "output_input_integer_seq = output_tokenizer.texts_to_sequences(output_sentences_inputs)\n",
    "\n",
    "word2idx_outputs = output_tokenizer.word_index\n",
    "print('Total unique words in the output: %s' % len(word2idx_outputs))\n",
    "\n",
    "num_words_output = len(word2idx_outputs) + 1\n",
    "max_out_len = max(len(sen) for sen in output_integer_seq)\n",
    "print(\"Length of longest sentence in the output: %g\" % max_out_len)\n",
    "\n",
    "# For Testing\n",
    "\n",
    "output_test_tokenizer = Tokenizer(num_words=max_features, oov_token='<unw>', split = ' ',filters='')\n",
    "output_test_tokenizer.fit_on_texts(output_test_sentences_inputs + output_test_sentences)\n",
    "output_test_integer_seq = output_test_tokenizer.texts_to_sequences(output_test_sentences)\n",
    "output_test_input_integer_seq = output_test_tokenizer.texts_to_sequences(output_test_sentences_inputs)\n",
    "\n",
    "word2idx_test_outputs = output_test_tokenizer.word_index\n",
    "print('Total unique words in the output in test set : %s' % len(word2idx_test_outputs))\n",
    "\n",
    "num_test_words_output = len(word2idx_test_outputs) + 1\n",
    "max_test_out_len = max(len(sen) for sen in output_test_integer_seq)\n",
    "print(\"Length of longest sentence in the output in test set: %g\" % max_test_out_len)"
   ]
  },
  {
   "cell_type": "markdown",
   "id": "c671f1f9",
   "metadata": {},
   "source": [
    "`PADDING"
   ]
  },
  {
   "cell_type": "code",
   "execution_count": 18,
   "id": "234718e8",
   "metadata": {},
   "outputs": [],
   "source": [
    "# For training set\n",
    "sequence_length_input = 37\n",
    "sequence_length_output = 58\n",
    "\n",
    "# For Test Set\n",
    "\n",
    "sequence_length_input_test = 22\n",
    "sequence_length_output_test = 77"
   ]
  },
  {
   "cell_type": "code",
   "execution_count": 19,
   "id": "a4fbc77e",
   "metadata": {},
   "outputs": [
    {
     "name": "stdout",
     "output_type": "stream",
     "text": [
      "encoder_input_sequences.shape: (2000, 37)\n",
      "encoder_input_sequences[172]: [  0   0   0   0   0   0   0   0   0   0   0   0   0   0   0   0   5   6\n",
      "   2   7   3  12  94  14  15  34  22 117 271 256   4   6  35 270   8 355\n",
      " 558]\n",
      "decoder_input_sequences.shape: (2000, 58)\n",
      "decoder_input_sequences[172]: [  7   5  22   2  57   3  13  10  88   3  14  11  23   4 235  16   9 235\n",
      "  29 427  20 275  49   5  21   2  57   6  47   4 335 892   0   0   0   0\n",
      "   0   0   0   0   0   0   0   0   0   0   0   0   0   0   0   0   0   0\n",
      "   0   0   0   0]\n",
      "encoder_test_input_sequences.shape: (1659, 22)\n",
      "encoder_test_input_sequences[172]: [ 0  0  0  0  0  0  0  0  0  0  0  0  0  4 11 18  2 45 17  2 21 28]\n",
      "decoder_test_input_sequences.shape: (1659, 77)\n",
      "decoder_test_input_sequences[172]: [14  9 20  6 41  7 31  2  8  9 37  8 31 12  6 41 55  0  0  0  0  0  0  0\n",
      "  0  0  0  0  0  0  0  0  0  0  0  0  0  0  0  0  0  0  0  0  0  0  0  0\n",
      "  0  0  0  0  0  0  0  0  0  0  0  0  0  0  0  0  0  0  0  0  0  0  0  0\n",
      "  0  0  0  0  0]\n"
     ]
    }
   ],
   "source": [
    "# we then pad the sequences so they're all the same length (sequence_length)\n",
    "# For Training\n",
    "encoder_input_sequences = pad_sequences(input_integer_seq, sequence_length_input )\n",
    "print(\"encoder_input_sequences.shape:\", encoder_input_sequences.shape)\n",
    "print(\"encoder_input_sequences[172]:\", encoder_input_sequences[172])\n",
    "\n",
    "# we then pad the sequences so they're all the same length (sequence_length)\n",
    "decoder_input_sequences = pad_sequences(output_input_integer_seq, sequence_length_output, padding='post' )\n",
    "\n",
    "print(\"decoder_input_sequences.shape:\", decoder_input_sequences.shape)\n",
    "print(\"decoder_input_sequences[172]:\", decoder_input_sequences[172])\n",
    "\n",
    "#  For Testing\n",
    "encoder_test_input_sequences = pad_sequences(input_test_integer_seq, sequence_length_input_test )\n",
    "print(\"encoder_test_input_sequences.shape:\", encoder_test_input_sequences.shape)\n",
    "print(\"encoder_test_input_sequences[172]:\", encoder_test_input_sequences[172])\n",
    "\n",
    "# we then pad the sequences so they're all the same length (sequence_length)\n",
    "decoder_test_input_sequences = pad_sequences(output_test_input_integer_seq, sequence_length_output_test, padding='post' )\n",
    "\n",
    "print(\"decoder_test_input_sequences.shape:\", decoder_test_input_sequences.shape)\n",
    "print(\"decoder_test_input_sequences[172]:\", decoder_test_input_sequences[172])"
   ]
  },
  {
   "cell_type": "code",
   "execution_count": 20,
   "id": "c87a5dc4",
   "metadata": {},
   "outputs": [
    {
     "name": "stdout",
     "output_type": "stream",
     "text": [
      "decoder_output_sequences.shape: (2000, 58)\n",
      "decoder_output_sequences[172]: [  5  22   2  57   3  13  10  88   3  14  11  23   4 235  16   9 235  29\n",
      " 427  20 275  49   5  21   2  57   6  47   4 335 892   8   0   0   0   0\n",
      "   0   0   0   0   0   0   0   0   0   0   0   0   0   0   0   0   0   0\n",
      "   0   0   0   0]\n",
      "decoder_test_output_sequences.shape: (1659, 77)\n",
      "decoder_test_output_sequences[172]: [ 9 20  6 41  7 31  2  8  9 37  8 31 12  6 41 55 15  0  0  0  0  0  0  0\n",
      "  0  0  0  0  0  0  0  0  0  0  0  0  0  0  0  0  0  0  0  0  0  0  0  0\n",
      "  0  0  0  0  0  0  0  0  0  0  0  0  0  0  0  0  0  0  0  0  0  0  0  0\n",
      "  0  0  0  0  0]\n"
     ]
    }
   ],
   "source": [
    "# we then pad the sequences so they're all the same length (sequence_length)\n",
    "# For Training\n",
    "decoder_output_sequences = pad_sequences(output_integer_seq, sequence_length_output, padding='post' )\n",
    "\n",
    "print(\"decoder_output_sequences.shape:\", decoder_output_sequences.shape)\n",
    "print(\"decoder_output_sequences[172]:\", decoder_output_sequences[172])\n",
    "\n",
    "# For testing\n",
    "\n",
    "decoder_test_output_sequences = pad_sequences(output_test_integer_seq, sequence_length_output_test, padding='post' )\n",
    "\n",
    "print(\"decoder_test_output_sequences.shape:\", decoder_test_output_sequences.shape)\n",
    "print(\"decoder_test_output_sequences[172]:\", decoder_test_output_sequences[172])"
   ]
  },
  {
   "cell_type": "markdown",
   "id": "cc17ab6c",
   "metadata": {},
   "source": [
    "WORD EMBEDDINGS USING GLOVE"
   ]
  },
  {
   "cell_type": "code",
   "execution_count": 21,
   "id": "951d2d33",
   "metadata": {},
   "outputs": [],
   "source": [
    "from numpy import array\n",
    "from numpy import asarray\n",
    "from numpy import zeros\n",
    "\n",
    "embeddings_dictionary = dict()\n",
    "\n",
    "glove_file = open(r'C:/Users/naina/Music/glove.6B/glove.6B.100d.txt', encoding=\"utf8\")\n",
    "\n",
    "for line in glove_file:\n",
    "    records = line.split()\n",
    "    word = records[0]\n",
    "    vector_dimensions = asarray(records[1:], dtype='float32')\n",
    "    embeddings_dictionary[word] = vector_dimensions\n",
    "glove_file.close()"
   ]
  },
  {
   "cell_type": "code",
   "execution_count": 22,
   "id": "976688cf",
   "metadata": {},
   "outputs": [],
   "source": [
    "EMBEDDING_SIZE = 100\n",
    "# For training input\n",
    "num_words = min(max_features, len(word2idx_inputs) + 1)\n",
    "embedding_matrix = zeros((num_words, EMBEDDING_SIZE))\n",
    "for word, index in word2idx_inputs.items():\n",
    "    embedding_vector = embeddings_dictionary.get(word)\n",
    "    if embedding_vector is not None:\n",
    "        embedding_matrix[index] = embedding_vector\n",
    "\n",
    "        \n",
    "# For test input set \n",
    "\n",
    "num_test_words = min(max_features, len(word2idx_test_inputs) + 1)\n",
    "embedding_test_matrix = zeros((num_test_words, EMBEDDING_SIZE))\n",
    "for word, index in word2idx_test_inputs.items():\n",
    "    embedding_test_vector = embeddings_dictionary.get(word)\n",
    "    if embedding_vector is not None:\n",
    "        embedding_test_matrix[index] = embedding_test_vector"
   ]
  },
  {
   "cell_type": "code",
   "execution_count": 23,
   "id": "68bd4606",
   "metadata": {},
   "outputs": [],
   "source": [
    "# For training set\n",
    "embedding_layer = Embedding(num_words, EMBEDDING_SIZE, weights=[embedding_matrix], input_length=max_input_len)\n",
    "\n",
    "# For Testing set \n",
    "embedding_test_layer = Embedding(num_test_words, EMBEDDING_SIZE, weights=[embedding_test_matrix], input_length=max_input_test_len)"
   ]
  },
  {
   "cell_type": "code",
   "execution_count": 24,
   "id": "7366bb88",
   "metadata": {},
   "outputs": [],
   "source": [
    "# For training set \n",
    "# to create empty output array,for decoder model\n",
    "decoder_targets_one_hot = np.zeros((\n",
    "        len(input_sentences),\n",
    "        max_out_len,\n",
    "        num_words_output\n",
    "    ),\n",
    "    dtype='float32'\n",
    ")\n",
    "\n",
    "# For testing set\n",
    "\n",
    "decoder_targets_test_one_hot = np.zeros((\n",
    "        len(input_test_sentences),\n",
    "        max_test_out_len,\n",
    "        num_test_words_output\n",
    "    ),\n",
    "    dtype='float32'\n",
    ")"
   ]
  },
  {
   "cell_type": "code",
   "execution_count": 25,
   "id": "0872b27a",
   "metadata": {},
   "outputs": [
    {
     "name": "stdout",
     "output_type": "stream",
     "text": [
      "(2000, 58, 2317)\n",
      "(1659, 77, 1248)\n"
     ]
    }
   ],
   "source": [
    "print(decoder_targets_one_hot.shape)\n",
    "\n",
    "print(decoder_targets_test_one_hot.shape)"
   ]
  },
  {
   "cell_type": "code",
   "execution_count": 26,
   "id": "27e5a141",
   "metadata": {},
   "outputs": [
    {
     "data": {
      "text/plain": [
       "1248"
      ]
     },
     "execution_count": 26,
     "metadata": {},
     "output_type": "execute_result"
    }
   ],
   "source": [
    "num_test_words_output"
   ]
  },
  {
   "cell_type": "code",
   "execution_count": 27,
   "id": "dfa577d3",
   "metadata": {},
   "outputs": [],
   "source": [
    "# For training set \n",
    "for i, d in enumerate(decoder_output_sequences):\n",
    "    for t, word in enumerate(d):\n",
    "        decoder_targets_one_hot[i, t, word] = 1\n"
   ]
  },
  {
   "cell_type": "code",
   "execution_count": 28,
   "id": "68d63df0",
   "metadata": {},
   "outputs": [],
   "source": [
    "\n",
    "# For testing set \n",
    "\n",
    "for i, d in enumerate(decoder_test_output_sequences):\n",
    "    for t, word in enumerate(d):\n",
    "        decoder_targets_test_one_hot[i, t, word] = 1"
   ]
  },
  {
   "cell_type": "code",
   "execution_count": 29,
   "id": "4a1b23a9",
   "metadata": {},
   "outputs": [
    {
     "data": {
      "text/plain": [
       "(1659, 77)"
      ]
     },
     "execution_count": 29,
     "metadata": {},
     "output_type": "execute_result"
    }
   ],
   "source": [
    "decoder_test_output_sequences.shape"
   ]
  },
  {
   "cell_type": "code",
   "execution_count": 30,
   "id": "8f1fadc5",
   "metadata": {},
   "outputs": [
    {
     "data": {
      "text/plain": [
       "(2000, 58)"
      ]
     },
     "execution_count": 30,
     "metadata": {},
     "output_type": "execute_result"
    }
   ],
   "source": [
    "decoder_output_sequences.shape"
   ]
  },
  {
   "cell_type": "markdown",
   "id": "a9ecdfd0",
   "metadata": {},
   "source": [
    "Defining Encoder"
   ]
  },
  {
   "cell_type": "code",
   "execution_count": 31,
   "id": "f89ae621",
   "metadata": {},
   "outputs": [],
   "source": [
    "LSTM_NODES =256"
   ]
  },
  {
   "cell_type": "code",
   "execution_count": 32,
   "id": "4e9fadf4",
   "metadata": {},
   "outputs": [],
   "source": [
    "# For training set\n",
    "encoder_inputs_placeholder = Input(shape=(max_input_len,))\n",
    "x = embedding_layer(encoder_inputs_placeholder)\n",
    "encoder = LSTM(units=LSTM_NODES, return_sequences=True, return_state=True)\n",
    "\n",
    "encoder_outputs, h, c = encoder(x)\n",
    "encoder_states = [h, c]"
   ]
  },
  {
   "cell_type": "markdown",
   "id": "fa75b237",
   "metadata": {},
   "source": [
    "Defining Decoder"
   ]
  },
  {
   "cell_type": "code",
   "execution_count": 33,
   "id": "d842564a",
   "metadata": {},
   "outputs": [],
   "source": [
    "# Now create the Decoder layers.\n",
    "decoder_inputs_placeholder = Input(shape=(max_out_len,))\n",
    "\n",
    "decoder_embedding = Embedding(num_words_output, LSTM_NODES)\n",
    "decoder_inputs_x = decoder_embedding(decoder_inputs_placeholder)\n",
    "\n",
    "decoder_lstm = LSTM(LSTM_NODES, return_sequences=True, return_state=True)\n",
    "decoder_outputs, _, _ = decoder_lstm(decoder_inputs_x, initial_state=encoder_states)\n",
    "decoder_d1 = Dense(LSTM_NODES, activation=\"relu\")\n",
    "decoder_d2 = Dense(num_words_output, activation='softmax')\n",
    "# Drop-out is added in the dense layers to help mitigate overfitting in this part of the model.\n",
    "decoder_outputs = decoder_d2(Dropout(rate=.4)(decoder_d1(Dropout(rate=.4)(decoder_outputs))))"
   ]
  },
  {
   "cell_type": "code",
   "execution_count": 34,
   "id": "db3ce088",
   "metadata": {},
   "outputs": [],
   "source": [
    "model = Model([encoder_inputs_placeholder,\n",
    "  decoder_inputs_placeholder], decoder_outputs)\n",
    "model.compile(\n",
    "    optimizer='rmsprop',\n",
    "    loss='categorical_crossentropy',\n",
    "    metrics=['accuracy']\n",
    ")"
   ]
  },
  {
   "cell_type": "code",
   "execution_count": 35,
   "id": "d5dc6eae",
   "metadata": {},
   "outputs": [
    {
     "name": "stdout",
     "output_type": "stream",
     "text": [
      "Epoch 1/20\n",
      "25/25 [==============================] - 11s 353ms/step - loss: 2.3125 - accuracy: 0.7217 - val_loss: 1.5890 - val_accuracy: 0.7493\n",
      "Epoch 2/20\n",
      "25/25 [==============================] - 7s 294ms/step - loss: 1.2959 - accuracy: 0.7686 - val_loss: 1.4986 - val_accuracy: 0.7576\n",
      "Epoch 3/20\n",
      "25/25 [==============================] - 7s 291ms/step - loss: 1.1707 - accuracy: 0.7815 - val_loss: 1.4305 - val_accuracy: 0.7795\n",
      "Epoch 4/20\n",
      "25/25 [==============================] - 8s 324ms/step - loss: 1.0287 - accuracy: 0.8015 - val_loss: 1.3004 - val_accuracy: 0.8153\n",
      "Epoch 5/20\n",
      "25/25 [==============================] - 8s 318ms/step - loss: 0.8794 - accuracy: 0.8303 - val_loss: 1.2165 - val_accuracy: 0.8355\n",
      "Epoch 6/20\n",
      "25/25 [==============================] - 8s 328ms/step - loss: 0.7740 - accuracy: 0.8496 - val_loss: 1.2484 - val_accuracy: 0.8394\n",
      "Epoch 7/20\n",
      "25/25 [==============================] - 8s 339ms/step - loss: 0.7018 - accuracy: 0.8616 - val_loss: 1.2538 - val_accuracy: 0.8513\n",
      "Epoch 8/20\n",
      "25/25 [==============================] - 8s 330ms/step - loss: 0.6583 - accuracy: 0.8664 - val_loss: 1.2948 - val_accuracy: 0.8548\n",
      "Epoch 9/20\n",
      "25/25 [==============================] - 8s 323ms/step - loss: 0.6260 - accuracy: 0.8708 - val_loss: 1.3171 - val_accuracy: 0.8566\n",
      "Epoch 10/20\n",
      "25/25 [==============================] - 8s 314ms/step - loss: 0.6001 - accuracy: 0.8737 - val_loss: 1.3605 - val_accuracy: 0.8557\n",
      "Epoch 11/20\n",
      "25/25 [==============================] - 8s 316ms/step - loss: 0.5797 - accuracy: 0.8764 - val_loss: 1.3848 - val_accuracy: 0.8523\n",
      "Epoch 12/20\n",
      "25/25 [==============================] - 8s 314ms/step - loss: 0.5597 - accuracy: 0.8791 - val_loss: 1.4387 - val_accuracy: 0.8606\n",
      "Epoch 13/20\n",
      "25/25 [==============================] - 8s 315ms/step - loss: 0.5424 - accuracy: 0.8818 - val_loss: 1.4622 - val_accuracy: 0.8616\n",
      "Epoch 14/20\n",
      "25/25 [==============================] - 8s 315ms/step - loss: 0.5258 - accuracy: 0.8838 - val_loss: 1.4297 - val_accuracy: 0.8608\n",
      "Epoch 15/20\n",
      "25/25 [==============================] - 8s 320ms/step - loss: 0.5097 - accuracy: 0.8866 - val_loss: 1.3755 - val_accuracy: 0.8607\n",
      "Epoch 16/20\n",
      "25/25 [==============================] - 8s 319ms/step - loss: 0.4952 - accuracy: 0.8881 - val_loss: 1.4019 - val_accuracy: 0.8628\n",
      "Epoch 17/20\n",
      "25/25 [==============================] - 8s 326ms/step - loss: 0.4809 - accuracy: 0.8905 - val_loss: 1.4484 - val_accuracy: 0.8638\n",
      "Epoch 18/20\n",
      "25/25 [==============================] - 8s 318ms/step - loss: 0.4642 - accuracy: 0.8940 - val_loss: 1.4897 - val_accuracy: 0.8663\n",
      "Epoch 19/20\n",
      "25/25 [==============================] - 8s 322ms/step - loss: 0.4516 - accuracy: 0.8951 - val_loss: 1.4900 - val_accuracy: 0.8663\n",
      "Epoch 20/20\n",
      "25/25 [==============================] - 8s 322ms/step - loss: 0.4397 - accuracy: 0.8965 - val_loss: 1.5254 - val_accuracy: 0.8671\n"
     ]
    }
   ],
   "source": [
    "# Training the model\n",
    "\n",
    "BATCH_SIZE = 64\n",
    "EPOCHS = 30\n",
    "\n",
    "history = model.fit(\n",
    "    [encoder_input_sequences, decoder_input_sequences],\n",
    "    decoder_targets_one_hot,\n",
    "    batch_size=BATCH_SIZE,\n",
    "    epochs=EPOCHS,\n",
    "    validation_split=0.2,\n",
    ")"
   ]
  },
  {
   "cell_type": "code",
   "execution_count": 167,
   "id": "3bb3e704",
   "metadata": {},
   "outputs": [
    {
     "name": "stdout",
     "output_type": "stream",
     "text": [
      "Average train accuracy:  0.8548706889152526\n",
      "Average train loss:  0.7548061177134514\n",
      "Average val accuracy:  0.8408620715141296\n",
      "Average val loss:  1.3977965831756591\n"
     ]
    }
   ],
   "source": [
    "print(\"Average train accuracy: \", np.average(history.history['accuracy']))\n",
    "print(\"Average train loss: \", np.average(history.history['loss']))\n",
    "print(\"Average val accuracy: \", np.average(history.history['val_accuracy']))\n",
    "print(\"Average val loss: \", np.average(history.history['val_loss']))"
   ]
  },
  {
   "cell_type": "code",
   "execution_count": 36,
   "id": "551a7afa",
   "metadata": {},
   "outputs": [],
   "source": [
    "import matplotlib.pyplot as plt \n",
    "\n",
    "def plot_hist_classif(hist):\n",
    "  n_ = len(hist.history['accuracy'])\n",
    "  plt.plot(range(1, n_+1), 100*np.asarray(hist.history['accuracy']), 'bo', label='Accuracy on training set')\n",
    "  plt.plot(range(1, n_+1), 100*np.asarray(hist.history['val_accuracy']), 'b', label='Accuracy on validation set')\n",
    "  plt.legend()\n",
    "  plt.xlabel(\"Epoch\") \n",
    "  plt.ylabel(\"Accuracy\")\n",
    "  plt.ylim(0, 100)\n",
    "  plt.axhline(y=50)\n",
    "  plt.show()"
   ]
  },
  {
   "cell_type": "code",
   "execution_count": 37,
   "id": "3ec7aab6",
   "metadata": {},
   "outputs": [
    {
     "data": {
      "image/png": "[encoded data removed]",
      "text/plain": [
       "<Figure size 432x288 with 1 Axes>"
      ]
     },
     "metadata": {
      "needs_background": "light"
     },
     "output_type": "display_data"
    }
   ],
   "source": [
    "plot_hist_classif(history)"
   ]
  },
  {
   "cell_type": "code",
   "execution_count": 164,
   "id": "539111a8",
   "metadata": {},
   "outputs": [],
   "source": [
    "def plot_his_loss(hist):\n",
    "  n_ = len(hist.history['loss'])\n",
    "  plt.plot(range(1, n_+1), 100*np.asarray(hist.history['loss']), 'bo', label='Loss on training set')\n",
    "  plt.plot(range(1, n_+1), 100*np.asarray(hist.history['val_loss']), 'b', label='Loss on validation set')\n",
    "  plt.legend()\n",
    "  plt.xlabel(\"Epoch\") \n",
    "  plt.ylabel(\"Loss\")\n",
    "  plt.ylim(0, 100)\n",
    "  plt.axhline(y=50)\n",
    "  plt.show()"
   ]
  },
  {
   "cell_type": "code",
   "execution_count": 165,
   "id": "1459b203",
   "metadata": {},
   "outputs": [
    {
     "data": {
      "image/png": "[encoded data removed]",
      "text/plain": [
       "<Figure size 432x288 with 1 Axes>"
      ]
     },
     "metadata": {
      "needs_background": "light"
     },
     "output_type": "display_data"
    }
   ],
   "source": [
    "plot_his_loss(history)"
   ]
  },
  {
   "cell_type": "markdown",
   "id": "10513547",
   "metadata": {},
   "source": [
    "# For Prediction"
   ]
  },
  {
   "cell_type": "code",
   "execution_count": 38,
   "id": "7bafe117",
   "metadata": {},
   "outputs": [],
   "source": [
    "encoder_model = Model(encoder_inputs_placeholder, encoder_states)"
   ]
  },
  {
   "cell_type": "code",
   "execution_count": 39,
   "id": "edbe86f5",
   "metadata": {},
   "outputs": [],
   "source": [
    "# Each step we need the decoder hidden and cell states, we will modify our model to accept the hidden and cell states as shown below:\n",
    "decoder_state_input_h = Input(shape=(LSTM_NODES,))\n",
    "decoder_state_input_c = Input(shape=(LSTM_NODES,))\n",
    "decoder_states_inputs = [decoder_state_input_h, decoder_state_input_c]\n",
    "\n",
    "decoder_inputs_single = Input(shape=(1,))\n",
    "decoder_inputs_single_x = decoder_embedding(decoder_inputs_single)\n",
    "\n",
    "decoder_outputs, h, c = decoder_lstm(decoder_inputs_single_x, initial_state=decoder_states_inputs)\n",
    "\n",
    "decoder_states = [h, c]\n",
    "decoder_outputs = decoder_d2(Dropout(rate=.4)(decoder_d1(Dropout(rate=.4)(decoder_outputs))))"
   ]
  },
  {
   "cell_type": "code",
   "execution_count": 40,
   "id": "2e4e99e5",
   "metadata": {},
   "outputs": [],
   "source": [
    "# Updating the decoder Model\n",
    "decoder_model = Model(\n",
    "    [decoder_inputs_single] + decoder_states_inputs,\n",
    "    [decoder_outputs] + decoder_states\n",
    ")"
   ]
  },
  {
   "cell_type": "code",
   "execution_count": 41,
   "id": "e5f71701",
   "metadata": {},
   "outputs": [
    {
     "data": {
      "image/png": "[encoded data removed]",
      "text/plain": [
       "<IPython.core.display.Image object>"
      ]
     },
     "execution_count": 41,
     "metadata": {},
     "output_type": "execute_result"
    }
   ],
   "source": [
    "from tensorflow.keras.utils import plot_model\n",
    "plot_model(model, to_file='model_plot4a.png', show_shapes=True, show_layer_names=True)"
   ]
  },
  {
   "cell_type": "code",
   "execution_count": 44,
   "id": "11a4f37d",
   "metadata": {},
   "outputs": [],
   "source": [
    "# To get the words for the output prediction\n",
    "\n",
    "idx2word_input = {v:k for k, v in word2idx_inputs.items()}\n",
    "idx2word_target = {v:k for k, v in word2idx_outputs.items()}"
   ]
  },
  {
   "cell_type": "code",
   "execution_count": 45,
   "id": "a7e657ae",
   "metadata": {},
   "outputs": [],
   "source": [
    "# Customised Translation function\n",
    "def translate_sentence(input_seq):\n",
    "    states_value = encoder_model.predict(input_seq)\n",
    "    target_seq = np.zeros((1, 1))\n",
    "    target_seq[0, 0] = word2idx_outputs['<sos>']\n",
    "    eos = word2idx_outputs['<eos>']\n",
    "    output_sentence = []\n",
    "\n",
    "    for _ in range(max_out_len):\n",
    "        output_tokens, h, c = decoder_model.predict([target_seq] + states_value)\n",
    "        idx = np.argmax(output_tokens[0, 0, :])\n",
    "\n",
    "        if eos == idx:\n",
    "            break\n",
    "\n",
    "        word = ''\n",
    "\n",
    "        if idx > 0:\n",
    "            word = idx2word_target[idx]\n",
    "            output_sentence.append(word)\n",
    "\n",
    "        target_seq[0, 0] = idx\n",
    "        states_value = [h, c]\n",
    "\n",
    "  #  return ' '.join(output_sentence)\n",
    "    return output_sentence"
   ]
  },
  {
   "cell_type": "markdown",
   "id": "08badf74",
   "metadata": {},
   "source": [
    "Test Predictions"
   ]
  },
  {
   "cell_type": "code",
   "execution_count": 175,
   "id": "6066867c",
   "metadata": {},
   "outputs": [
    {
     "name": "stdout",
     "output_type": "stream",
     "text": [
      "-\n",
      "Input from train set : find number of tracks in each genre\n",
      "Response: ['select', 'count(*)', 'from', 'genre', 'as', 't1', 'join', 'track', 'as', 't2', 'on', 't1.genreid', '=', 't2.genreid', 'where', 't1.name', '=', '\"pop\"']\n",
      "BLEU-1: 0.055556\n",
      "BLEU-2: 0.000000\n",
      "BLEU-3: 0.000000\n",
      "BLEU-4: 0.000000\n"
     ]
    }
   ],
   "source": [
    "j = np.random.choice(len(input_sentences))\n",
    "input_seq = encoder_input_sequences[j:j+1]\n",
    "translation_train = translate_sentence(input_seq)\n",
    "print('-')\n",
    "print('Input from train set :', input_sentences[j])\n",
    "print('Response:', translation_train)\n",
    "\n",
    "\n",
    "true_train_output = df1.iloc[j]['query_lower']\n",
    "\n",
    "print('BLEU-1: %f' % nltk.translate.bleu_score.sentence_bleu(true_train_output, translation_train, weights=(1.0, 0, 0, 0)))\n",
    "print('BLEU-2: %f' % nltk.translate.bleu_score.sentence_bleu(true_train_output, translation_train, weights=(0.5, 0.5, 0, 0)))\n",
    "print('BLEU-3: %f' % nltk.translate.bleu_score.sentence_bleu(true_train_output, translation_train, weights=(0.3, 0.3, 0.3, 0)))\n",
    "print('BLEU-4: %f' % nltk.translate.bleu_score.sentence_bleu(true_train_output, translation_train, weights=(0.25, 0.25, 0.25, 0.25)))"
   ]
  },
  {
   "cell_type": "code",
   "execution_count": 89,
   "id": "29c1e7e0",
   "metadata": {},
   "outputs": [
    {
     "name": "stdout",
     "output_type": "stream",
     "text": [
      "-\n",
      "Input from training set : list the hardware model name for the phons that were produced by nokia corporation but whose screen mode type is not text\n",
      "Response: ['select', 'distinct', 't2.hardware_model_name', 'from', 'screen_mode', 'as', 't1', 'join', 'phone', 'as', 't2', 'on', 't1.graphics_mode', '=', 't2.screen_mode', 'where', 't2.company_name', '=', '\"nokia', 'corporation\";']\n"
     ]
    }
   ],
   "source": [
    "i = np.random.choice(len(input_sentences))\n",
    "input_seq = encoder_input_sequences[i:i+1]\n",
    "translation = translate_sentence(input_seq)\n",
    "print('-')\n",
    "print('Input from training set :', input_sentences[i])\n",
    "print('Response:', translation)"
   ]
  },
  {
   "cell_type": "code",
   "execution_count": 171,
   "id": "6adc685f",
   "metadata": {},
   "outputs": [
    {
     "name": "stdout",
     "output_type": "stream",
     "text": [
      "-\n",
      "Input from test set : what is the nationality of the actress  christoph waltz\n",
      "Response: ['select', 'nominee', 'from', 'musical', 'where', 'award', '=', '\"tony', 'award\"', 'intersect', 'select', 'course_id', 'from', 'section', 'where', 'semester', '=', \"'spring'\", 'and', 'year', '=', '2010']\n"
     ]
    }
   ],
   "source": [
    "i = np.random.choice(len(input_test_sentences))\n",
    "input_seq = encoder_input_sequences[i:i+1]\n",
    "translation = translate_sentence(input_seq)\n",
    "print('-')\n",
    "print('Input from test set :', input_test_sentences[i])\n",
    "print('Response:', translation)"
   ]
  },
  {
   "cell_type": "code",
   "execution_count": 174,
   "id": "9cbf6aa3",
   "metadata": {},
   "outputs": [
    {
     "name": "stdout",
     "output_type": "stream",
     "text": [
      "-\n",
      "Input from test set : find all users who have written tips for  barrio cafe  in 2015\n",
      "Response: ['select', 'birth_place', ',', 'count(*)', 'from', 'people', 'group', 'by', 'party', 'order', 'by', 'count(*)', 'desc', 'limit', '1']\n",
      "BLEU-1: 0.076923\n",
      "BLEU-2: 0.000000\n",
      "BLEU-3: 0.000000\n",
      "BLEU-4: 0.000000\n"
     ]
    }
   ],
   "source": [
    "i = np.random.choice(len(input_test_sentences))\n",
    "input_seq = encoder_input_sequences[i:i+1]\n",
    "translation = translate_sentence(input_seq)\n",
    "print('-')\n",
    "print('Input from test set :', input_test_sentences[i])\n",
    "print('Response:', translation)\n",
    "\n",
    "\n",
    "\n",
    "true_test_output = df2.iloc[j]['query_lower']\n",
    "\n",
    "print('BLEU-1: %f' % nltk.translate.bleu_score.sentence_bleu(true_test_output, translation_train, weights=(1.0, 0, 0, 0)))\n",
    "print('BLEU-2: %f' % nltk.translate.bleu_score.sentence_bleu(true_test_output, translation_train, weights=(0.5, 0.5, 0, 0)))\n",
    "print('BLEU-3: %f' % nltk.translate.bleu_score.sentence_bleu(true_test_output, translation_train, weights=(0.3, 0.3, 0.3, 0)))\n",
    "print('BLEU-4: %f' % nltk.translate.bleu_score.sentence_bleu(true_test_output, translation_train, weights=(0.25, 0.25, 0.25, 0.25)))\n"
   ]
  },
  {
   "cell_type": "code",
   "execution_count": null,
   "id": "52788655",
   "metadata": {},
   "outputs": [],
   "source": []
  }
 ],
 "metadata": {
  "kernelspec": {
   "display_name": "Python 3",
   "language": "python",
   "name": "python3"
  },
  "language_info": {
   "codemirror_mode": {
    "name": "ipython",
    "version": 3
   },
   "file_extension": ".py",
   "mimetype": "text/x-python",
   "name": "python",
   "nbconvert_exporter": "python",
   "pygments_lexer": "ipython3",
   "version": "3.8.8"
  }
 },
 "nbformat": 4,
 "nbformat_minor": 5
}
