{
  "nbformat": 4,
  "nbformat_minor": 0,
  "metadata": {
    "colab": {
      "name": "bootstrap.ipynb",
      "provenance": [],
      "include_colab_link": true
    },
    "kernelspec": {
      "display_name": "Python 3",
      "language": "python",
      "name": "python3"
    },
    "language_info": {
      "codemirror_mode": {
        "name": "ipython",
        "version": 3
      },
      "file_extension": ".py",
      "mimetype": "text/x-python",
      "name": "python",
      "nbconvert_exporter": "python",
      "pygments_lexer": "ipython3",
      "version": "3.7.6"
    },
    "pycharm": {
      "stem_cell": {
        "cell_type": "raw",
        "metadata": {
          "collapsed": false
        },
        "source": []
      }
    }
  },
  "cells": [
    {
      "cell_type": "markdown",
      "metadata": {
        "id": "view-in-github",
        "colab_type": "text"
      },
      "source": [
        "<a href=\"https://colab.research.google.com/github/naina1192/CE888/blob/main/lab2%20-%20bootstrap/bootstrap.ipynb\" target=\"_parent\"><img src=\"https://colab.research.google.com/assets/colab-badge.svg\" alt=\"Open In Colab\"/></a>"
      ]
    },
    {
      "cell_type": "markdown",
      "metadata": {
        "id": "nCi_99yMYIb1"
      },
      "source": [
        "In this notebook you'll create your own bootstrap function following the bootstrap algorithm (check the lecture notes!)"
      ]
    },
    {
      "cell_type": "code",
      "metadata": {
        "id": "LY5zujI2YC37",
        "pycharm": {
          "name": "#%%# Imports\n"
        }
      },
      "source": [
        "import matplotlib\n",
        "import pandas as pd\n",
        "import seaborn as sns\n",
        "import numpy as np\n",
        "\n"
      ],
      "execution_count": 5,
      "outputs": []
    },
    {
      "cell_type": "code",
      "metadata": {
        "id": "Eqkwj4SMY38t"
      },
      "source": [
        "# Load the data\n",
        "df = pd.read_csv('https://raw.githubusercontent.com/albanda/CE888/master/lab2%20-%20bootstrap/customers.csv')\n",
        "data = df.values.T[1]"
      ],
      "execution_count": 6,
      "outputs": []
    },
    {
      "cell_type": "code",
      "metadata": {
        "id": "Gxvc_bScYC4H",
        "pycharm": {
          "name": "#%%\n"
        }
      },
      "source": [
        "# Checking the notes from the lecture, create here your own bootstrap function:\n",
        "# 1. Sample from the input array x to create an array of samples of shape (n_bootstraps, sample_size)\n",
        "# Hint: Check the function random.choice() on Numpy\n",
        "# 2. Calculate and save the mean of the array (this is \"data_mean\" that is returned by the function)\n",
        "# 3. Calculate the mean from each bootstrap (i.e., row) and store it.\n",
        "# (This should be an array of n_bootstraps values)\n",
        "# 4. Calculate the lower and upper bounds for a 95% CI (hint: check the percentile function on Numpy)\n",
        "# 5. Return data_mean, and the lower and upper bounds of your interval\n",
        "def bootstrap_mean(x, sample_size, n_bootstraps):\n",
        "\t# <---INSERT YOUR CODE HERE--->\n",
        "\n",
        "\tsamples_arr  = np.random.choice(x,replace = True,size = [n_bootstraps, sample_size])\n",
        "\tdata_mean = np.mean(samples_arr)\n",
        "\tn_it_means = []\n",
        "\tfor i in range(0, n_bootstraps):\n",
        "\t\tn_it_means.append(np.mean(samples_arr[i,:]))\n",
        "\tlower = np.percentile(n_it_means, 2.5)\n",
        "\tupper = np.percentile(n_it_means, 97.5)\n",
        "\treturn data_mean, lower, upper\n"
      ],
      "execution_count": 7,
      "outputs": []
    },
    {
      "cell_type": "code",
      "metadata": {
        "id": "AN7sEOcMYC4P",
        "pycharm": {
          "name": "#%%\n"
        },
        "colab": {
          "base_uri": "https://localhost:8080/",
          "height": 441
        },
        "outputId": "5458b614-f052-4ca0-98a0-7e384f220c09"
      },
      "source": [
        "# Call your bootstrap function and plot the results\n",
        "\n",
        "boots = []\n",
        "for i in range(100, 50000, 1000):\n",
        "    boot = bootstrap_mean(data, data.shape[0], i)\n",
        "    boots.append([i, boot[0], \"mean\"])\n",
        "    boots.append([i, boot[1], \"lower\"])\n",
        "    boots.append([i, boot[2], \"upper\"])\n",
        "\n",
        "df_boot = pd.DataFrame(boots, columns=['Bootstrap Iterations', 'Mean', \"Value\"])\n",
        "sns_plot = sns.lmplot(df_boot.columns[0], df_boot.columns[1], data=df_boot, fit_reg=False, hue=\"Value\")\n",
        "\n",
        "sns_plot.axes[0, 0].set_ylim(0,)\n",
        "sns_plot.axes[0, 0].set_xlim(0, 50000)\n"
      ],
      "execution_count": 8,
      "outputs": [
        {
          "output_type": "stream",
          "name": "stderr",
          "text": [
            "/usr/local/lib/python3.7/dist-packages/seaborn/_decorators.py:43: FutureWarning: Pass the following variables as keyword args: x, y. From version 0.12, the only valid positional argument will be `data`, and passing other arguments without an explicit keyword will result in an error or misinterpretation.\n",
            "  FutureWarning\n"
          ]
        },
        {
          "output_type": "execute_result",
          "data": {
            "text/plain": [
              "(0.0, 50000.0)"
            ]
          },
          "metadata": {},
          "execution_count": 8
        },
        {
          "output_type": "display_data",
          "data": {
            "text/plain": [
              "<Figure size 425.125x360 with 1 Axes>"
            ],
            "image/png": "[encoded data removed]"
          },
          "metadata": {
            "needs_background": "light"
          }
        }
      ]
    },
    {
      "cell_type": "markdown",
      "metadata": {
        "id": "MjtP4e2_YC4V"
      },
      "source": [
        "\n",
        "Now, modify the bootstrap function you created above so that you can pass your desired confidence interval as a parameter.\n",
        "\n"
      ]
    },
    {
      "cell_type": "code",
      "metadata": {
        "id": "3K9j0FuGYhHs"
      },
      "source": [
        "def bootstrap_mean_ci(sample, sample_size, n_bootstraps, ci):\n",
        "\t# <---INSERT YOUR CODE HERE--->\n",
        "\tl_lim = (100 - ci) / 2.0\n",
        "\tu_lim = l_lim + ci\n",
        "\tsamples_arr  = np.random.choice(sample,replace = True,size = [n_bootstraps, sample_size])\n",
        "\tdata_mean = np.mean(samples_arr)\n",
        "\tn_it_means = []\n",
        "\tfor i in range(0, n_bootstraps):\n",
        "\t\tn_it_means.append(np.mean(samples_arr[i,:]))\n",
        "\tlower = np.percentile(n_it_means, l_lim)\n",
        "\tupper = np.percentile(n_it_means, u_lim)\n",
        "\treturn data_mean, lower, upper"
      ],
      "execution_count": 9,
      "outputs": []
    },
    {
      "cell_type": "code",
      "metadata": {
        "id": "uDnjq08GYl-C",
        "colab": {
          "base_uri": "https://localhost:8080/",
          "height": 441
        },
        "outputId": "05c6e5fb-3b75-49f2-b29f-9520572bdd53"
      },
      "source": [
        "boots = []\n",
        "for i in range(100, 50000, 1000):\n",
        "    boot = bootstrap_mean_ci(data, data.shape[0], i, 80)\n",
        "    boots.append([i, boot[0], \"mean\"])\n",
        "    boots.append([i, boot[1], \"lower\"])\n",
        "    boots.append([i, boot[2], \"upper\"])\n",
        "\n",
        "df_boot = pd.DataFrame(boots, columns=['Boostrap Iterations', 'Mean', \"Value\"])\n",
        "sns_plot = sns.lmplot(df_boot.columns[0], df_boot.columns[1], data=df_boot, fit_reg=False, hue=\"Value\")\n",
        "\n",
        "sns_plot.axes[0, 0].set_ylim(0,)\n",
        "sns_plot.axes[0, 0].set_xlim(0, 50000)\n",
        "\n",
        "#sns_plot.savefig(\"bootstrap_confidence_80.pdf\", bbox_inches='tight')\n"
      ],
      "execution_count": 10,
      "outputs": [
        {
          "output_type": "stream",
          "name": "stderr",
          "text": [
            "/usr/local/lib/python3.7/dist-packages/seaborn/_decorators.py:43: FutureWarning: Pass the following variables as keyword args: x, y. From version 0.12, the only valid positional argument will be `data`, and passing other arguments without an explicit keyword will result in an error or misinterpretation.\n",
            "  FutureWarning\n"
          ]
        },
        {
          "output_type": "execute_result",
          "data": {
            "text/plain": [
              "(0.0, 50000.0)"
            ]
          },
          "metadata": {},
          "execution_count": 10
        },
        {
          "output_type": "display_data",
          "data": {
            "text/plain": [
              "<Figure size 425.125x360 with 1 Axes>"
            ],
            "image/png": "[encoded data removed]"
          },
          "metadata": {
            "needs_background": "light"
          }
        }
      ]
    },
    {
      "cell_type": "markdown",
      "metadata": {
        "id": "qjNgXW6wdd7r"
      },
      "source": [
        "# Vehicles dataset\n",
        "\n",
        "Now let's work on a different dataset, which is stored in the vehicles.csv file.\n"
      ]
    },
    {
      "cell_type": "code",
      "metadata": {
        "id": "avWv4ipFdpka",
        "colab": {
          "base_uri": "https://localhost:8080/",
          "height": 1000
        },
        "outputId": "2f090db0-232d-405c-a928-7a633c776b20"
      },
      "source": [
        "# Load and visualise the vehicles dataset\n",
        "# To load the dataset: https://neptune.ai/blog/google-colab-dealing-with-files (check section \"Load individual files directly from GitHub\")\n",
        "\n",
        "\n",
        "# Note that the current and new fleets are in different columns and have different lengths, so bear this in mind when you're plotting.\n",
        "# You can create separate scatterplots for the two fleets, as you would with the histograms, \n",
        "# or plot them both in one plot (but not one against the other).\n",
        "# <---INSERT YOUR CODE HERE--->\n",
        "# Note: you can add more cells as needed to organise your code and your plots\n",
        "df_vech = pd.read_csv('https://raw.githubusercontent.com/albanda/CE888/master/lab2%20-%20bootstrap/vehicles.csv')\n",
        "data_vech_cur_fleet = df_vech.values.T[0]\n",
        "data_vech_new_fleet = [d for d in df_vech.values.T[1] if not np.isnan(d)]\n",
        "\n",
        "sns.distplot(data_vech_cur_fleet, bins=20, kde=False, rug=True, color='mediumvioletred')\n",
        "sns.distplot(data_vech_new_fleet, bins=20, kde=False, rug=True, color='r')\n",
        "\n",
        "df_current_list = list(zip(range(1, len(df_vech['Current fleet'])), list(df_vech['Current fleet'])))\n",
        "df_curr = pd.DataFrame(df_current_list, columns = ['row', 'Current fleet'])\n",
        "sns.lmplot(df_curr.columns[0], df_curr.columns[1], data=df_curr, fit_reg=False)\n",
        "\n",
        "df_new_list = list(zip(range(1, len(df_vech['New Fleet'])), list(df_vech['New Fleet'])))\n",
        "df_new = pd.DataFrame(df_new_list, columns = ['row', 'New Fleet'])\n",
        "sns.lmplot(df_new.columns[0], df_new.columns[1], data=df_new, fit_reg=False)"
      ],
      "execution_count": 21,
      "outputs": [
        {
          "output_type": "stream",
          "name": "stderr",
          "text": [
            "/usr/local/lib/python3.7/dist-packages/seaborn/distributions.py:2619: FutureWarning: `distplot` is a deprecated function and will be removed in a future version. Please adapt your code to use either `displot` (a figure-level function with similar flexibility) or `histplot` (an axes-level function for histograms).\n",
            "  warnings.warn(msg, FutureWarning)\n",
            "/usr/local/lib/python3.7/dist-packages/seaborn/distributions.py:2103: FutureWarning: The `axis` variable is no longer used and will be removed. Instead, assign variables directly to `x` or `y`.\n",
            "  warnings.warn(msg, FutureWarning)\n",
            "/usr/local/lib/python3.7/dist-packages/seaborn/distributions.py:2619: FutureWarning: `distplot` is a deprecated function and will be removed in a future version. Please adapt your code to use either `displot` (a figure-level function with similar flexibility) or `histplot` (an axes-level function for histograms).\n",
            "  warnings.warn(msg, FutureWarning)\n",
            "/usr/local/lib/python3.7/dist-packages/seaborn/distributions.py:2103: FutureWarning: The `axis` variable is no longer used and will be removed. Instead, assign variables directly to `x` or `y`.\n",
            "  warnings.warn(msg, FutureWarning)\n",
            "/usr/local/lib/python3.7/dist-packages/seaborn/_decorators.py:43: FutureWarning: Pass the following variables as keyword args: x, y. From version 0.12, the only valid positional argument will be `data`, and passing other arguments without an explicit keyword will result in an error or misinterpretation.\n",
            "  FutureWarning\n",
            "/usr/local/lib/python3.7/dist-packages/seaborn/_decorators.py:43: FutureWarning: Pass the following variables as keyword args: x, y. From version 0.12, the only valid positional argument will be `data`, and passing other arguments without an explicit keyword will result in an error or misinterpretation.\n",
            "  FutureWarning\n"
          ]
        },
        {
          "output_type": "execute_result",
          "data": {
            "text/plain": [
              "<seaborn.axisgrid.FacetGrid at 0x7f1c9b33c390>"
            ]
          },
          "metadata": {},
          "execution_count": 21
        },
        {
          "output_type": "display_data",
          "data": {
            "text/plain": [
              "<Figure size 432x288 with 1 Axes>"
            ],
            "image/png": "[encoded data removed]"
          },
          "metadata": {
            "needs_background": "light"
          }
        },
        {
          "output_type": "display_data",
          "data": {
            "text/plain": [
              "<Figure size 360x360 with 1 Axes>"
            ],
            "image/png": "[encoded data removed]"
          },
          "metadata": {
            "needs_background": "light"
          }
        },
        {
          "output_type": "display_data",
          "data": {
            "text/plain": [
              "<Figure size 360x360 with 1 Axes>"
            ],
            "image/png": "[encoded data removed]"
          },
          "metadata": {
            "needs_background": "light"
          }
        }
      ]
    },
    {
      "cell_type": "code",
      "source": [
        "np.size(data_vech_cur_fleet)"
      ],
      "metadata": {
        "id": "I0MDAQeIMIHW",
        "outputId": "09f30128-2e0f-4b5f-e9f3-b1728595348c",
        "colab": {
          "base_uri": "https://localhost:8080/"
        }
      },
      "execution_count": 16,
      "outputs": [
        {
          "output_type": "execute_result",
          "data": {
            "text/plain": [
              "249"
            ]
          },
          "metadata": {},
          "execution_count": 16
        }
      ]
    },
    {
      "cell_type": "markdown",
      "metadata": {
        "id": "B5d0tXDpIEj8"
      },
      "source": [
        "## Compare the two fleets\n",
        "\n",
        "The business analysts come up a comparison algorithm that requires the upper and lower bounds for the mean in order to say which fleet is better.\n",
        "1. Calculate the mean of both samples.\n",
        "2. Using the bootstrap function that you created:\n",
        "    - Construct the 95% CI of the mean of the current fleet.\n",
        "    - Construct the 95% CI of the mean of the new fleet.\n",
        "    - Are they comparable? (i.e., is one better than the other?) -- you can do this with a permutation test (check the lecture notes!)"
      ]
    },
    {
      "cell_type": "code",
      "metadata": {
        "id": "po4mp6zRHC0m",
        "colab": {
          "base_uri": "https://localhost:8080/"
        },
        "outputId": "f72afcdc-cce8-46e1-e303-41fdc9c3bd8d"
      },
      "source": [
        "# <---INSERT YOUR CODE HERE--->\n",
        "curr_mean = np.mean(data_vech_cur_fleet)\n",
        "new_mean = np.mean([d for d in data_vech_new_fleet if not np.isnan(d)])\n",
        "print(f'Mean of Current Fleet: {curr_mean}')\n",
        "print(f'Mean of New Fleet: {new_mean}')\n",
        "\n",
        "boots_curr = []\n",
        "for i in range(100, 1000, 1000):\n",
        "    boot = bootstrap_mean(data_vech_cur_fleet, data_vech_cur_fleet.shape[0], i)\n",
        "    boots_curr.append([i, boot[0], \"mean\"])\n",
        "    boots_curr.append([i, boot[1], \"lower\"])\n",
        "    boots_curr.append([i, boot[2], \"upper\"])\n",
        "upper_bounds_curr = [b[1] for b in boots_curr if b[-1] is 'upper']\n",
        "means_curr = [b[1] for b in boots_curr if b[-1] is 'mean']\n",
        "lower_bounds_curr = [b[1] for b in boots_curr if b[-1] is 'lower']\n",
        "curr_mean = np.mean(np.array(means_curr))\n",
        "print(f'Current Fleet Mean (upper bound): {np.mean(np.array(upper_bounds_curr))}')\n",
        "print(f'Current Fleet Mean : {np.mean(np.array(means_curr))}')\n",
        "print(f'Current Fleet Mean (lower bound): {np.mean(np.array(lower_bounds_curr))}')\n",
        "\n",
        "\n",
        "\n",
        "boots_new = []\n",
        "for i in range(100, 100, 1000):\n",
        "    boot = bootstrap_mean(data_vech_new_fleet, data_vech_new_fleet.shape[0], i)\n",
        "    boots_new.append([i, boot[0], \"mean\"])\n",
        "    boots_new.append([i, boot[1], \"lower\"])\n",
        "    boots_new.append([i, boot[2], \"upper\"])\n",
        "upper_bounds_new = [b[1] for b in boots_new if b[-1] is 'upper']\n",
        "means_new = [b[1] for b in boots_new if b[-1] is 'mean']\n",
        "lower_bounds_new = [b[1] for b in boots_new if b[-1] is 'lower']\n",
        "new_mean = np.mean(np.array(means_new))\n",
        "print(f'New Fleet Mean (upper bound): {np.mean(np.array(upper_bounds_new))}')\n",
        "print(f'New Fleet Mean : {new_mean}')\n",
        "print(f'New Fleet Mean (lower bound): {np.mean(np.array(lower_bounds_new))}')\n",
        "\n",
        "t_obs = curr_mean - new_mean"
      ],
      "execution_count": 23,
      "outputs": [
        {
          "output_type": "stream",
          "name": "stdout",
          "text": [
            "Mean of Current Fleet: 20.14457831325301\n",
            "Mean of New Fleet: 30.481012658227847\n",
            "Current Fleet Mean (upper bound): 20.78855421686747\n",
            "Current Fleet Mean : 20.176265060240965\n",
            "Current Fleet Mean (lower bound): 19.48413654618474\n",
            "New Fleet Mean (upper bound): nan\n",
            "New Fleet Mean : nan\n",
            "New Fleet Mean (lower bound): nan\n"
          ]
        },
        {
          "output_type": "stream",
          "name": "stderr",
          "text": [
            "/usr/local/lib/python3.7/dist-packages/numpy/core/fromnumeric.py:3441: RuntimeWarning: Mean of empty slice.\n",
            "  out=out, **kwargs)\n",
            "/usr/local/lib/python3.7/dist-packages/numpy/core/_methods.py:189: RuntimeWarning: invalid value encountered in double_scalars\n",
            "  ret = ret.dtype.type(ret / rcount)\n"
          ]
        }
      ]
    },
    {
      "cell_type": "code",
      "metadata": {
        "id": "MkxvDZG4HC0n"
      },
      "source": [
        "# Create your own function for a permutation test here (you will need it for the lab quiz!):\n",
        "def permut_test(sample1, sample2, obs_val,n_permutations):\n",
        "    \"\"\"\n",
        "    sample1: 1D array\n",
        "    sample2: 1D array (note that the size of the two arrays can be different)\n",
        "    n_permutations: number of permutations to calculate the p-value\n",
        "    \"\"\"\n",
        "    for _ in range(n_permutations): \n",
        "      res_arr_a = []\n",
        "      res_arr_b = []  \n",
        "      concat = np.concatenate((sample1, sample2))\n",
        "      perm = np.permutation(concat)\n",
        "      arr_a = perm[:int(len(perm)/2)]\n",
        "      arr_b = perm[int(len(perm)/2):]\n",
        "      res_arr_a.append(bootstrap_mean(sample1, len(sample1), n_permutations)[0])\n",
        "      res_arr_b.append(bootstrap_mean(sample2, len(sample2), n_permutations)[0])\n",
        "      results = [b - a for (a,b) in zip(res_arr_a, res_arr_b)]\n",
        "      pvalue = len(list(filter(lambda z: z > obs_val, results))) / len(list(filter(lambda z: not z > obs_val, results)))\n",
        "    return pvalue"
      ],
      "execution_count": 24,
      "outputs": []
    },
    {
      "cell_type": "code",
      "source": [
        ""
      ],
      "metadata": {
        "id": "JR6C-YHxQri7"
      },
      "execution_count": null,
      "outputs": []
    }
  ]
}